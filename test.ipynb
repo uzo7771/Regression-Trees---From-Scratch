{
 "cells": [
  {
   "cell_type": "code",
   "execution_count": 1,
   "metadata": {},
   "outputs": [],
   "source": [
    "from sklearn.datasets import load_diabetes\n",
    "from sklearn.model_selection import train_test_split\n",
    "import numpy as np\n",
    "import pandas as pd\n",
    "from sklearn.metrics import mean_squared_error\n",
    "from regression_trees import RegressionTree"
   ]
  },
  {
   "cell_type": "code",
   "execution_count": 2,
   "metadata": {},
   "outputs": [],
   "source": [
    "X, y = load_diabetes(return_X_y=True)"
   ]
  },
  {
   "cell_type": "code",
   "execution_count": 3,
   "metadata": {},
   "outputs": [],
   "source": [
    "X_train, X_test, y_train, y_test = train_test_split(X,y, test_size=0.2, random_state=2)"
   ]
  },
  {
   "cell_type": "code",
   "execution_count": 4,
   "metadata": {},
   "outputs": [
    {
     "name": "stdout",
     "output_type": "stream",
     "text": [
      "    Max depth  Min samples split  Mean squared error\n",
      "0           5                  2         4122.593654\n",
      "1           5                  5         4122.593654\n",
      "2           5                 10         3984.192530\n",
      "3          10                  2         6246.656024\n",
      "4          10                  5         6066.150678\n",
      "5          10                 10         5123.833230\n",
      "6          15                  2         6373.575843\n",
      "7          15                  5         6108.773405\n",
      "8          15                 10         5123.833230\n",
      "9          20                  2         6373.575843\n",
      "10         20                  5         6108.773405\n",
      "11         20                 10         5123.833230\n"
     ]
    }
   ],
   "source": [
    "results = []\n",
    "for depth in [5,10,15,20]:\n",
    "    for min_samples in [2, 5, 10]:\n",
    "        model = RegressionTree(X_train, y_train, max_depth=depth, min_samples_split=min_samples)\n",
    "        model.fit()\n",
    "        pred = model.predict(X_test)\n",
    "        mse = mean_squared_error(y_test, pred)\n",
    "\n",
    "        results.append({\n",
    "            'Max depth': depth,\n",
    "            'Min samples split': min_samples,\n",
    "            'Mean squared error': mse\n",
    "        })\n",
    "\n",
    "df = pd.DataFrame(results)\n",
    "print(df)"
   ]
  }
 ],
 "metadata": {
  "kernelspec": {
   "display_name": "Python 3",
   "language": "python",
   "name": "python3"
  },
  "language_info": {
   "codemirror_mode": {
    "name": "ipython",
    "version": 3
   },
   "file_extension": ".py",
   "mimetype": "text/x-python",
   "name": "python",
   "nbconvert_exporter": "python",
   "pygments_lexer": "ipython3",
   "version": "3.9.13"
  }
 },
 "nbformat": 4,
 "nbformat_minor": 2
}
